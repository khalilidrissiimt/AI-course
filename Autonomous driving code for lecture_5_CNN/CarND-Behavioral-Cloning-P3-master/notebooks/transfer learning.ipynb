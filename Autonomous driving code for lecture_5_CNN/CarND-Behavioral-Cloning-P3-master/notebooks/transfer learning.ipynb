{
 "cells": [
  {
   "cell_type": "code",
   "execution_count": 1,
   "metadata": {},
   "outputs": [],
   "source": [
    "import torch\n",
    "from torch.utils.data import Dataset, DataLoader, random_split\n",
    "import torch.nn as nn\n",
    "import torchvision\n",
    "from torchvision.io import read_image\n",
    "from torchvision import models, transforms\n",
    "import glob\n",
    "import os\n",
    "import csv\n",
    "from subprocess import Popen\n",
    "from torch import optim"
   ]
  },
  {
   "cell_type": "code",
   "execution_count": 2,
   "metadata": {},
   "outputs": [
    {
     "name": "stdout",
     "output_type": "stream",
     "text": [
      "['C:\\\\Users\\\\monsi\\\\Desktop\\\\club\\\\lecture5\\\\data\\\\IMG\\\\center_2021_09_02_23_44_24_449.jpg', 'C:\\\\Users\\\\monsi\\\\Desktop\\\\club\\\\lecture5\\\\data\\\\IMG\\\\left_2021_09_02_23_44_24_449.jpg', 'C:\\\\Users\\\\monsi\\\\Desktop\\\\club\\\\lecture5\\\\data\\\\IMG\\\\right_2021_09_02_23_44_24_449.jpg', '0', '0', '0', '7.104638E-06']\n"
     ]
    }
   ],
   "source": [
    "csv_file = r'C:\\Users\\monsi\\Desktop\\club\\lecture5\\data\\driving_log.csv'\n",
    "with open(csv_file) as f:\n",
    "    file = csv.reader(f)\n",
    "    print(next(file))"
   ]
  },
  {
   "cell_type": "markdown",
   "metadata": {},
   "source": [
    "The reader object is like a generator, once you have iterate the values, you cannot begin a second loop to read the values again."
   ]
  },
  {
   "cell_type": "code",
   "execution_count": 3,
   "metadata": {},
   "outputs": [],
   "source": [
    "class Data(Dataset):\n",
    "    \n",
    "    def __init__(self, transform = None):\n",
    "        super().__init__()\n",
    "        csv_file = r'C:\\Users\\monsi\\Desktop\\club\\lecture5\\data\\driving_log.csv'\n",
    "        with open(csv_file,'r') as f:\n",
    "            file = csv.reader(f)\n",
    "            file = list(file)\n",
    "            self.images = [row[0] for row in file]\n",
    "            self.labels = [float(row[3]) for row in file]\n",
    "            self.transform = transform\n",
    "            \n",
    "    def __len__(self):\n",
    "        return len(self.labels)\n",
    "    \n",
    "    def __getitem__(self,idx):\n",
    "        image = read_image(self.images[idx])/255.0\n",
    "        label = self.labels[idx]\n",
    "        if self.transform :\n",
    "            image = self.transform(image)\n",
    "        return image, torch.tensor(label,dtype=torch.float)"
   ]
  },
  {
   "cell_type": "code",
   "execution_count": 4,
   "metadata": {},
   "outputs": [],
   "source": [
    "transform = transforms.Compose([\n",
    "    transforms.Resize((224,224)),\n",
    "])"
   ]
  },
  {
   "cell_type": "code",
   "execution_count": null,
   "metadata": {},
   "outputs": [],
   "source": []
  },
  {
   "cell_type": "code",
   "execution_count": 5,
   "metadata": {},
   "outputs": [],
   "source": [
    "dataset = Data(transform= transform)"
   ]
  },
  {
   "cell_type": "code",
   "execution_count": 6,
   "metadata": {},
   "outputs": [
    {
     "data": {
      "text/plain": [
       "torch.Size([3, 224, 224])"
      ]
     },
     "execution_count": 6,
     "metadata": {},
     "output_type": "execute_result"
    }
   ],
   "source": [
    "dataset[0][0].shape"
   ]
  },
  {
   "cell_type": "code",
   "execution_count": 7,
   "metadata": {},
   "outputs": [],
   "source": [
    "train_ds, test_ds, val_ds = random_split(dataset,[5621,703,703])"
   ]
  },
  {
   "cell_type": "code",
   "execution_count": 8,
   "metadata": {},
   "outputs": [],
   "source": [
    "train_dl = DataLoader(train_ds, batch_size = 16, drop_last= True, shuffle = True)\n",
    "test_dl = DataLoader(test_ds, batch_size = 16, drop_last= True, shuffle = False)\n",
    "val_dl = DataLoader(val_ds, batch_size = 16, drop_last= True, shuffle = False)"
   ]
  },
  {
   "cell_type": "code",
   "execution_count": 9,
   "metadata": {},
   "outputs": [
    {
     "name": "stdout",
     "output_type": "stream",
     "text": [
      "torch.Size([16, 3, 224, 224])\n"
     ]
    }
   ],
   "source": [
    "for x, y in train_dl:\n",
    "    print(x.shape)\n",
    "    break"
   ]
  },
  {
   "cell_type": "code",
   "execution_count": 28,
   "metadata": {},
   "outputs": [],
   "source": [
    "class Net(nn.Module):\n",
    "    \n",
    "    def __init__(self):\n",
    "        super().__init__()\n",
    "        self.backbone = models.vgg16(pretrained = True)\n",
    "        self.backbone.classifier = nn.Sequential(\n",
    "                                    nn.Linear(25088,1000),\n",
    "                                    nn.ReLU(),\n",
    "                                    nn.Dropout(0.3),\n",
    "                                    nn.Linear(1000,1000),\n",
    "                                    nn.ReLU(),\n",
    "                                    nn.Dropout(0.3),\n",
    "                                    nn.Linear(1000,100),\n",
    "                                    nn.ReLU(),\n",
    "                                    nn.Dropout(0.3),\n",
    "                                    nn.Linear(100,1) \n",
    "        )\n",
    "    \n",
    "    def forward(self, x):\n",
    "        x = self.backbone(x)\n",
    "        return x"
   ]
  },
  {
   "cell_type": "code",
   "execution_count": 29,
   "metadata": {},
   "outputs": [],
   "source": [
    "net = Net()"
   ]
  },
  {
   "cell_type": "code",
   "execution_count": 20,
   "metadata": {},
   "outputs": [],
   "source": [
    "for param in net.backbone.features:\n",
    "    param.requires_grad = False"
   ]
  },
  {
   "cell_type": "code",
   "execution_count": 30,
   "metadata": {},
   "outputs": [],
   "source": [
    "net = net.to('cuda')"
   ]
  },
  {
   "cell_type": "code",
   "execution_count": 26,
   "metadata": {},
   "outputs": [],
   "source": [
    "net = Net()"
   ]
  },
  {
   "cell_type": "code",
   "execution_count": 27,
   "metadata": {},
   "outputs": [
    {
     "name": "stdout",
     "output_type": "stream",
     "text": [
      "torch.Size([16, 1])\n"
     ]
    }
   ],
   "source": [
    "for x, y in train_dl:\n",
    "    net.forward(x)\n",
    "    break"
   ]
  },
  {
   "cell_type": "code",
   "execution_count": 46,
   "metadata": {},
   "outputs": [],
   "source": [
    "net.to('cuda');"
   ]
  },
  {
   "cell_type": "code",
   "execution_count": 31,
   "metadata": {},
   "outputs": [],
   "source": [
    "cost = nn.MSELoss()"
   ]
  },
  {
   "cell_type": "code",
   "execution_count": 32,
   "metadata": {},
   "outputs": [],
   "source": [
    "optimizer = optim.Adam(net.parameters(), lr = 0.001)"
   ]
  },
  {
   "cell_type": "code",
   "execution_count": 33,
   "metadata": {},
   "outputs": [],
   "source": [
    "epochs = 5"
   ]
  },
  {
   "cell_type": "code",
   "execution_count": 34,
   "metadata": {},
   "outputs": [
    {
     "name": "stdout",
     "output_type": "stream",
     "text": [
      "epoch : 1 , train_cost = 22.1612415490672 , val_cost = 1.440306778124068\n"
     ]
    },
    {
     "ename": "KeyboardInterrupt",
     "evalue": "",
     "output_type": "error",
     "traceback": [
      "\u001b[1;31m---------------------------------------------------------------------------\u001b[0m",
      "\u001b[1;31mKeyboardInterrupt\u001b[0m                         Traceback (most recent call last)",
      "\u001b[1;32m<ipython-input-34-45a2c1869653>\u001b[0m in \u001b[0;36m<module>\u001b[1;34m\u001b[0m\n\u001b[0;32m     20\u001b[0m             \u001b[0mpred\u001b[0m \u001b[1;33m=\u001b[0m \u001b[0mnet\u001b[0m\u001b[1;33m(\u001b[0m\u001b[0mx\u001b[0m\u001b[1;33m)\u001b[0m\u001b[1;33m\u001b[0m\u001b[1;33m\u001b[0m\u001b[0m\n\u001b[0;32m     21\u001b[0m             \u001b[0merror\u001b[0m \u001b[1;33m=\u001b[0m \u001b[0mcost\u001b[0m\u001b[1;33m(\u001b[0m\u001b[0mpred\u001b[0m\u001b[1;33m.\u001b[0m\u001b[0msqueeze\u001b[0m\u001b[1;33m(\u001b[0m\u001b[1;33m)\u001b[0m\u001b[1;33m,\u001b[0m\u001b[0my\u001b[0m\u001b[1;33m)\u001b[0m\u001b[1;33m\u001b[0m\u001b[1;33m\u001b[0m\u001b[0m\n\u001b[1;32m---> 22\u001b[1;33m             \u001b[0mval_cost\u001b[0m \u001b[1;33m=\u001b[0m \u001b[0mval_cost\u001b[0m \u001b[1;33m+\u001b[0m \u001b[0merror\u001b[0m\u001b[1;33m.\u001b[0m\u001b[0mitem\u001b[0m\u001b[1;33m(\u001b[0m\u001b[1;33m)\u001b[0m\u001b[1;33m\u001b[0m\u001b[1;33m\u001b[0m\u001b[0m\n\u001b[0m\u001b[0;32m     23\u001b[0m \u001b[1;33m\u001b[0m\u001b[0m\n\u001b[0;32m     24\u001b[0m     \u001b[0mprint\u001b[0m\u001b[1;33m(\u001b[0m\u001b[1;34mf'epoch : {epoch} , train_cost = {train_cost} , val_cost = {val_cost}'\u001b[0m\u001b[1;33m)\u001b[0m\u001b[1;33m\u001b[0m\u001b[1;33m\u001b[0m\u001b[0m\n",
      "\u001b[1;31mKeyboardInterrupt\u001b[0m: "
     ]
    }
   ],
   "source": [
    "for epoch in range(1, 1 + epochs):\n",
    "    net.train()\n",
    "    train_cost = 0.0\n",
    "    for x, y in train_dl:\n",
    "        optimizer.zero_grad()\n",
    "        x = x.to('cuda', dtype = torch.float)\n",
    "        y = y.to('cuda', dtype = torch.float)\n",
    "        pred = net(x)\n",
    "        error = cost(pred.squeeze(),y)\n",
    "        train_cost = train_cost + error.item()\n",
    "        error.backward()\n",
    "        optimizer.step()\n",
    "    \n",
    "    with torch.no_grad():\n",
    "        net.eval()\n",
    "        val_cost = 0.0\n",
    "        for x, y in val_dl:\n",
    "            x = x.to('cuda', dtype = torch.float)\n",
    "            y = y.to('cuda', dtype = torch.float)\n",
    "            pred = net(x)\n",
    "            error = cost(pred.squeeze(),y)\n",
    "            val_cost = val_cost + error.item()\n",
    "    \n",
    "    print(f'epoch : {epoch} , train_cost = {train_cost} , val_cost = {val_cost}')\n",
    "\n",
    "torch.save(net.state_dict(),r\"C:\\Users\\monsi\\Desktop\\club\\lecture5\\my_model_3.pt\") "
   ]
  },
  {
   "cell_type": "code",
   "execution_count": 152,
   "metadata": {},
   "outputs": [],
   "source": [
    " tt = torch.tensor([[-0.0145],\n",
    "        [ 0.0195],\n",
    "        [-0.0017],\n",
    "        [ 0.0119],\n",
    "        [-0.0111],\n",
    "        [-0.0172],\n",
    "        [ 0.0135],\n",
    "        [-0.0216],\n",
    "        [-0.0026],\n",
    "        [ 0.0044],\n",
    "        [ 0.0076],\n",
    "        [-0.0138],\n",
    "        [ 0.0156],\n",
    "        [-0.0333],\n",
    "        [ 0.0206],\n",
    "        [-0.0216]])"
   ]
  },
  {
   "cell_type": "code",
   "execution_count": 165,
   "metadata": {},
   "outputs": [
    {
     "data": {
      "text/plain": [
       "tensor([-0.0145,  0.0195, -0.0017,  0.0119, -0.0111, -0.0172,  0.0135, -0.0216,\n",
       "        -0.0026,  0.0044,  0.0076, -0.0138,  0.0156, -0.0333,  0.0206, -0.0216])"
      ]
     },
     "execution_count": 165,
     "metadata": {},
     "output_type": "execute_result"
    }
   ],
   "source": [
    "tt.squeeze()"
   ]
  },
  {
   "cell_type": "code",
   "execution_count": null,
   "metadata": {},
   "outputs": [],
   "source": []
  }
 ],
 "metadata": {
  "kernelspec": {
   "display_name": "Python 3",
   "language": "python",
   "name": "python3"
  },
  "language_info": {
   "codemirror_mode": {
    "name": "ipython",
    "version": 3
   },
   "file_extension": ".py",
   "mimetype": "text/x-python",
   "name": "python",
   "nbconvert_exporter": "python",
   "pygments_lexer": "ipython3",
   "version": "3.7.6"
  }
 },
 "nbformat": 4,
 "nbformat_minor": 4
}
